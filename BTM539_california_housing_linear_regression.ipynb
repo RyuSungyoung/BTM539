{
 "cells": [
  {
   "cell_type": "code",
   "execution_count": null,
   "metadata": {},
   "outputs": [],
   "source": [
    "import pandas as pd, numpy as numpy\n",
    "import matplotlib.pyplot as pyplot\n",
    "import sklearn.linear_model as sklm\n",
    "from statmodels.stats.outliers_influence import variance_inflation_factor\n",
    "from sklearn.preprocessing import StandardScaler\n",
    "from sklearn.decomposition import PCA\n",
    "from sklearn.model_selction import train_test_split\n",
    "from sklearn.linear_model import LinearRegression\n",
    "from sklearn.preprocessing import PolynomialFeatures\n",
    "from sklearn.metrics import mean_squared_error, r2_score\n",
    "from sklearn.linear_model import LinearRegression\n",
    "from sklearn.pipeline import make_pipeline\n",
    "import statmodels.api as sm\n",
    "import statmodels.formula.api as smf\n",
    "from patsy import dmatrices "
   ]
  },
  {
   "cell_type": "code",
   "execution_count": null,
   "metadata": {},
   "outputs": [],
   "source": [
    "calhouse = pd.readcsv('California_Houses_udt.csv')\n",
    "calhouse"
   ]
  },
  {
   "cell_type": "code",
   "execution_count": null,
   "metadata": {},
   "outputs": [],
   "source": [
    "calhouse.describe().T"
   ]
  },
  {
   "cell_type": "code",
   "execution_count": null,
   "metadata": {},
   "outputs": [],
   "source": [
    "calhouse.corr()"
   ]
  },
  {
   "cell_type": "code",
   "execution_count": null,
   "metadata": {},
   "outputs": [],
   "source": [
    "x = calhouse.drop(['Median_House_Value'], axis=1)\n",
    "x = calhouse['Median_House_Value']\n",
    "print(X.shape, y.shape)"
   ]
  },
  {
   "cell_type": "code",
   "execution_count": null,
   "metadata": {},
   "outputs": [],
   "source": [
    "LR_model = LinearRegression()\n",
    "LR_model.fit(X, y)\n",
    "print(LR_model.coef_)\n",
    "print(LR_model.intercept_)\n",
    "print(LR_model.score(X, y))"
   ]
  },
  {
   "cell_type": "code",
   "execution_count": null,
   "metadata": {},
   "outputs": [],
   "source": [
    "LRM_stm1 = smf.ols(\"Median_House_Value ~ Median_Income + Median_Age + Tot_Rooms\", data=calhouse).fit()\n",
    "print(LRM_stm1.summary())"
   ]
  },
  {
   "cell_type": "code",
   "execution_count": null,
   "metadata": {},
   "outputs": [],
   "source": [
    "print(LRM_stm1.params, LRM_stm1.rsquared, LRM_stm1.mse_resid)\n",
    "print(LRM_stm1.fittedvalues)"
   ]
  },
  {
   "cell_type": "code",
   "execution_count": null,
   "metadata": {},
   "outputs": [],
   "source": [
    "XwC = sm.add_constant(X)\n",
    "LRM_stm2 = sm.OLS(y, XwC)\n",
    "LRM_stm2_out = LTM_stm2.fit()\n",
    "print(LRM_stm2_out.summary())"
   ]
  },
  {
   "cell_type": "code",
   "execution_count": null,
   "metadata": {},
   "outputs": [],
   "source": [
    "pd.DataFrame({'IVs': column, 'VIF': variance_inflation_factor(LRM_stm2.exog, i)}\n",
    "            for i, column in enumerate(LRM_stm2.exog_names)\n",
    "            if column != 'const')\n",
    "        "
   ]
  },
  {
   "cell_type": "code",
   "execution_count": null,
   "metadata": {},
   "outputs": [],
   "source": [
    "X_snd = StandardScaler().fit_transform(X)\n",
    "print(type(X_snd))\n",
    "pd.DataFrame(X_snd).head()"
   ]
  },
  {
   "cell_type": "code",
   "execution_count": null,
   "metadata": {},
   "outputs": [],
   "source": [
    "dim = len(X.columns)\n",
    "pca1 = PCA(n_componets = dim)\n",
    "latent_vars = pca1.fit_transform(X_snd)"
   ]
  },
  {
   "cell_type": "code",
   "execution_count": null,
   "metadata": {},
   "outputs": [],
   "source": [
    "col_names = ['PC' + str(i+1) for i in range(dim)]"
   ]
  },
  {
   "cell_type": "code",
   "execution_count": null,
   "metadata": {},
   "outputs": [],
   "source": [
    "pcvar = pd.DataFrame(latent_vars, columns = col_names)\n",
    "print(pcvar.shape)\n",
    "pcvar.head()"
   ]
  },
  {
   "cell_type": "code",
   "execution_count": null,
   "metadata": {},
   "outputs": [],
   "source": [
    "print('Amount of variance explained by each laten variable in the PCA:', pca1.explained_variance_)\n",
    "pca1.explained_variance_.sum()"
   ]
  },
  {
   "cell_type": "code",
   "execution_count": null,
   "metadata": {},
   "outputs": [],
   "source": [
    "print('Variance explained ration by each latent variable in PCA:', pca1.explained_variance_ratio_)\n",
    "print('Total sum of explained variance:', sum(pca1.explained_variance_ratio_))\n",
    "print('Cumulative sum of the variance explained ratio:', pca1.explained_variance_ratio_.cumsum())"
   ]
  }
 ],
 "metadata": {
  "language_info": {
   "name": "python"
  },
  "orig_nbformat": 4
 },
 "nbformat": 4,
 "nbformat_minor": 2
}
