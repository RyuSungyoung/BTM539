{
 "cells": [
  {
   "cell_type": "code",
   "execution_count": null,
   "metadata": {},
   "outputs": [],
   "source": [
    "import matplotlib.pyplot as plt, pandas as pd, seaborn as sns\n",
    "from sklearn import tree, metrics, svm\n",
    "from sklearn.model_selection import train_test_split, cross_val_score, ShuffleSplit\n",
    "from sklearn.ensemble import RandomForestClassifier"
   ]
  },
  {
   "cell_type": "code",
   "execution_count": null,
   "metadata": {},
   "outputs": [],
   "source": [
    "import pandas as pd\n",
    "from google.colab import drive #Mounting Google Drive\n",
    "drive.mount('/content/drive') #Setting a file path to data directory\n",
    "%cd '/content/drive/MyDrive/Colab Notebooks/data/'"
   ]
  },
  {
   "cell_type": "code",
   "execution_count": null,
   "metadata": {},
   "outputs": [],
   "source": [
    "iris_data = pd.readCSV(\"nlp-iris-flower-shape.csv\")\n",
    "print(type(iris_data), iris_data.shape)\n",
    "iris_data"
   ]
  },
  {
   "cell_type": "code",
   "execution_count": null,
   "metadata": {},
   "outputs": [],
   "source": [
    "X_iris = iris_data[['SepalL','SepalW', 'PetalL', 'PetalW']]\n",
    "y_iris = iris_data[['Name']]\n",
    "class_name = y_iris.unique() #Class revised by professor\n",
    "class_name"
   ]
  },
  {
   "cell_type": "code",
   "execution_count": null,
   "metadata": {},
   "outputs": [],
   "source": [
    "X_train, X_test, y_train, y_test = train_test_split(X_iris, y_iris, shuffle = True, random_state = 7)\n",
    "irisDT = tree.DecisionTreeClassfier().fit(X_train, y_train)\n",
    "class_prediction = irisDT.predict(X_test)\n",
    "ac_score = metrics.accuracy_score(y_test, class_prediction)\n",
    "print(f'Accuracy rate = {ac_score:.5f}')\n",
    "confusion = metrics.confusion_matrix(y_test, class_prediction, labels= irisDT.classes_)\n",
    "print(confusion)"
   ]
  },
  {
   "cell_type": "code",
   "execution_count": null,
   "metadata": {},
   "outputs": [],
   "source": [
    "metrics.ConfusionMatrixDisplay(confusion, display_labels=irisDT.classes_).plot()\n",
    "plt.show"
   ]
  },
  {
   "cell_type": "code",
   "execution_count": null,
   "metadata": {},
   "outputs": [],
   "source": [
    "tree_text = tree.export_text(irisDT, feature_names=['PetalL','PetalW','SepalL','SepalW'])\n",
    "print(tree_text)"
   ]
  },
  {
   "cell_type": "code",
   "execution_count": null,
   "metadata": {},
   "outputs": [],
   "source": [
    "plt.figure(figsize=(10,6))\n",
    "tree.plot_tree(irisDT, feature_names=['PetalL','PetalW','SepalL','SepalW'], class_names=class_name, filled = True)\n",
    "plt.show()"
   ]
  },
  {
   "cell_type": "code",
   "execution_count": null,
   "metadata": {},
   "outputs": [],
   "source": [
    "irisDT.feature_importance"
   ]
  },
  {
   "cell_type": "code",
   "execution_count": null,
   "metadata": {},
   "outputs": [],
   "source": [
    "#K-fold\n",
    "\n",
    "scores = cross_val_score(irisDTm, X_train, y_train, cv = 10)\n",
    "scores"
   ]
  },
  {
   "cell_type": "code",
   "execution_count": null,
   "metadata": {},
   "outputs": [],
   "source": [
    "cv = ShuffleSplit(n_splits = 10, random_state = 50)"
   ]
  },
  {
   "cell_type": "code",
   "execution_count": null,
   "metadata": {},
   "outputs": [],
   "source": [
    "mshrm = pd.readCSV(\"mushroom-characteristic.csv\", header = None)\n",
    "print(mshrm.shape)\n",
    "print(mshrm.head())\n",
    "ord('d')\n",
    "string_series = pd.DataFrame([['r','a','n','d','o','m'],['f','o','r','e','s','t']])\n",
    "for i, value in string_series.iterrows():\n",
    "    for j in value:\n",
    "        print(f'{i}: {ord(j)}', end=' ') #unicode"
   ]
  },
  {
   "cell_type": "code",
   "execution_count": null,
   "metadata": {},
   "outputs": [],
   "source": [
    "#List 자료형 활용하여 연산과정 줄이기 print: (row number, column amount in tuple)\n",
    "print([(i, ord(j)) for i, value in string_series.iterrows() for j in value], end=' ')"
   ]
  },
  {
   "cell_type": "code",
   "execution_count": null,
   "metadata": {},
   "outputs": [],
   "source": [
    "label = []\n",
    "data = []\n",
    "for row_index, row in mshrm.iterrows():\n",
    "    label.append(row.iloc[0])\n",
    "    row_data =[]\n",
    "    for v in row.iloc[1:]:\n",
    "        row_data.append(ord(v))\n",
    "    data.append(row_data)\n",
    "y = pd.Series(label); X = pd.DataFrame(data)\n",
    "print(y.shape, X.shape)\n",
    "print(y.head()); print(X.head())"
   ]
  },
  {
   "cell_type": "code",
   "execution_count": null,
   "metadata": {},
   "outputs": [],
   "source": [
    "X_tr, X_tst, y_tr, y_tst = train_test_split(X, y)\n",
    "mshrmRFC = RandomForestClassifier().fit(X_tr, y_tr)\n",
    "predict = mshrmRFC.predict(X_tst)\n",
    "ac_score = metrics.accuracy_score(y_tst, predict)\n",
    "print(ac_score)\n",
    "confusion = metrics.confusion_matrix(y_true=y_tst, y_pred=predict)\n",
    "print(confusion)\n",
    "cl_report = metrics.classfication_report(y_tst, predict)\n",
    "print(cl_report)\n",
    "print(mshrmRFC.feature_importances_)"
   ]
  }
 ],
 "metadata": {
  "language_info": {
   "name": "python"
  },
  "orig_nbformat": 4
 },
 "nbformat": 4,
 "nbformat_minor": 2
}
